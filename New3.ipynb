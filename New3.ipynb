{
 "cells": [
  {
   "cell_type": "code",
   "execution_count": 1,
   "metadata": {},
   "outputs": [
    {
     "data": {
      "application/vnd.jupyter.widget-view+json": {
       "model_id": "2222924704ff4314819f60b0a0413eb4",
       "version_major": 2,
       "version_minor": 0
      },
      "text/plain": [
       "interactive(children=(FloatSlider(value=350.0, description='Temp', max=1000.0, min=10.0, step=10.0), Dropdown(…"
      ]
     },
     "metadata": {},
     "output_type": "display_data"
    },
    {
     "data": {
      "text/plain": [
       "<function __main__.plot_func(Temp, colr)>"
      ]
     },
     "execution_count": 1,
     "metadata": {},
     "output_type": "execute_result"
    }
   ],
   "source": [
    "from ipywidgets import interact, interactive, fixed, interact_manual\n",
    "import ipywidgets as widgets\n",
    "import numpy as np\n",
    "from decimal import Decimal\n",
    "import matplotlib.pyplot as plt\n",
    "%matplotlib inline\n",
    "\n",
    "def plot_func(Temp,colr):\n",
    "   \n",
    "    #define wavelength range and step to equal Modtran plots\n",
    "    lowl = 1.0\n",
    "    upl=15.0\n",
    "    step=0.025\n",
    "\n",
    "    #subband integration limits\n",
    "    wvl1=3.5\n",
    "    wvl2=5.0\n",
    "\n",
    "    #step out wavelenghts, match array size of L to wvl\n",
    "    wvl = np.arange(lowl, upl,step)\n",
    "    L = wvl*3\n",
    "    Lsubband = 0.0\n",
    "    #print (wvl, L)\n",
    "\n",
    "    #compute radiant intensity values L and sub-band total\n",
    "    count=0\n",
    "    for i in wvl:\n",
    "        L[count]= 37400/(wvl[count]**5)*(1/((2.71828)**(14400/(wvl[count]*Temp))-1))\n",
    "        if (wvl[count] > wvl1) and (wvl[count] < wvl2) :Lsubband+=L[count]*step\n",
    "        #print (count, wvl[count], L[count])\n",
    "        count +=  1\n",
    "    \n",
    "    #find peak L and index of peak\n",
    "    mrx = max(L)\n",
    "    inpeak = np.argmax(L)\n",
    "\n",
    "    #make a vertical line\n",
    "    vlinex = np.repeat(wvl[inpeak], 5)\n",
    "    vliney = vlinex * 3\n",
    "    count=0\n",
    "    for i in vlinex:\n",
    "        vliney[count] = (count/3)*L[inpeak]\n",
    "        #print (count, vlinex[count], vliney[count])\n",
    "        count +=1\n",
    "    #print (vlinex, vliney)\n",
    "    fullrad=sum(L)*step\n",
    "\n",
    "    fullrad_d=float(\"{:.2E}\".format(fullrad))\n",
    "    Lsubbandd=float(\"{:.2E}\".format(Lsubband))\n",
    "    mrxd=round(mrx,2)\n",
    "    wvl1d=round(wvl1,2)\n",
    "    wvl2d=round(wvl2,2)\n",
    "    wvlpd=round(wvl[inpeak],2)\n",
    "\n",
    "    print (Temp, wvlpd, fullrad_d, Lsubbandd, Lsubband)\n",
    "\n",
    "    #multi plot with all above\n",
    "    plt.figure(figsize=(7,9))\n",
    "\n",
    "    plt.subplot(311)\n",
    "    plt.plot ( wvl, L,color = colr)\n",
    "    plt.plot (wvl[inpeak],L[inpeak],'gv')\n",
    "    plt.grid(True)\n",
    "    plt.plot (vlinex,vliney,'g:')\n",
    "    #plt.xlabel('Wavelenght um')\n",
    "    plt.ylabel('W/cm^2-um')\n",
    "    plt.title('Plank Blackbody Curve - Source Emittance T= ' + str(Temp))\n",
    "    plt.axis([lowl,upl,0, 1.1*mrx])\n",
    "    plt.text(1.02*wvl[inpeak], 0.5*L[inpeak], \" \" + str(wvlpd) + \"um\",color='green')\n",
    "\n",
    "    plt.subplot(312)\n",
    "    plt.plot ( wvl, L,'r')\n",
    "    plt.fill_between(wvl, 0, L)\n",
    "    plt.plot (wvl[inpeak],L[inpeak],'gv')\n",
    "    #plt.xlabel('Wavelenght um')\n",
    "    plt.ylabel('W/cm^2-um')\n",
    "    #plt.title('Plank Blackbody Curve - Source Emittance')\n",
    "    plt.axis([lowl,upl,0, 1.1*mrx])\n",
    "    plt.text(0.6*upl, 0.5*L[inpeak],\"Total= \" + str(fullrad_d) + \" W-cm^2\",color='Red')\n",
    "\n",
    "    plt.subplot(313)\n",
    "    vlinex1 = np.repeat(wvl1, 5)\n",
    "    vlinex2 = np.repeat(wvl2, 5)\n",
    "    plt.plot ( wvl, L,'r')\n",
    "    plt.plot (vlinex1,vliney,'b:')\n",
    "    plt.plot (vlinex2,vliney,'b:')\n",
    "    plt.xlabel('Wavelenght um')\n",
    "    plt.ylabel('W/cm^2-um')\n",
    "    #plt.title('Plank Blackbody Curve - Source Emittance')\n",
    "    plt.axis([lowl,upl,0, 1.1*mrx])\n",
    "    plt.text(wvl1, L[inpeak], \"  \" + str(wvl1d) + \" to \", color='blue')\n",
    "    plt.text(wvl2, L[inpeak], \"  \" + str(wvl2d) + \"um\", color='blue')\n",
    "    plt.fill_between(wvl, 0, L, where = (wvl>wvl1), facecolor='blue')\n",
    "    plt.fill_between(wvl, 0, L, where = (wvl>wvl2), facecolor='white')\n",
    "    plt.plot (wvl[inpeak],L[inpeak],'gv')\n",
    "    plt.text(0.77*upl, L[inpeak], str(Lsubbandd) + \" W-cm^2\",color='Blue')\n",
    "\n",
    "    \n",
    "    print (\"Temp=\", Temp)\n",
    "interact(plot_func, Temp = widgets.FloatSlider(value=350, min=10, max=1000, step=10), colr=[\"red\",\"orange\",\"brown\"])"
   ]
  },
  {
   "cell_type": "code",
   "execution_count": null,
   "metadata": {},
   "outputs": [],
   "source": []
  }
 ],
 "metadata": {
  "kernelspec": {
   "display_name": "Python 3",
   "language": "python",
   "name": "python3"
  },
  "language_info": {
   "codemirror_mode": {
    "name": "ipython",
    "version": 3
   },
   "file_extension": ".py",
   "mimetype": "text/x-python",
   "name": "python",
   "nbconvert_exporter": "python",
   "pygments_lexer": "ipython3",
   "version": "3.7.9"
  }
 },
 "nbformat": 4,
 "nbformat_minor": 2
}
